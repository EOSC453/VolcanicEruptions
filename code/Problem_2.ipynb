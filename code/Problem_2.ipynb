{
 "metadata": {
  "language_info": {
   "codemirror_mode": {
    "name": "ipython",
    "version": 3
   },
   "file_extension": ".py",
   "mimetype": "text/x-python",
   "name": "python",
   "nbconvert_exporter": "python",
   "pygments_lexer": "ipython3",
   "version": "3.8.2-final"
  },
  "orig_nbformat": 2,
  "kernelspec": {
   "name": "python3",
   "display_name": "Python 3"
  }
 },
 "nbformat": 4,
 "nbformat_minor": 2,
 "cells": [
  {
   "cell_type": "code",
   "execution_count": null,
   "metadata": {},
   "outputs": [],
   "source": [
    "import json\n",
    "import pandas as pd\n",
    "import numpy as np"
   ]
  },
  {
   "source": [
    "## Problem 2\n",
    "In the case of suppressed intra-zonal transfer, the steady state temperature in each zone can be directly computed\n",
    "\n",
    "$$\n",
    "T_k^4 = \\frac{\\gamma_k(1 - \\alpha^{\\text{sky}})(1 - \\bar{\\alpha_k})S_0}{\\tau \\sigma_B}\n",
    "$$"
   ],
   "cell_type": "markdown",
   "metadata": {}
  },
  {
   "cell_type": "code",
   "execution_count": null,
   "metadata": {},
   "outputs": [],
   "source": [
    "def read_zone_parameters(param, params, n):\n",
    "    return np.array([params['Zone']['{}'.format(i)][param] for i in range(1, n + 1)])\n",
    "\n",
    "with open('parameters.json') as f:\n",
    "    params = json.load(f)\n",
    "\n",
    "n = 6 # Number of zones\n",
    "gamma = read_zone_parameters('Geometric Factor', params, n)\n",
    "frac_l = read_zone_parameters('Land Fraction', params, n)\n",
    "frac_o = read_zone_parameters('Ocean Fraction', params, n)\n",
    "frac_i = read_zone_parameters('Ice Fraction', params, n)\n",
    "alpha_l = params['Land Albedo']\n",
    "alpha_o = params['Ocean Albedo']\n",
    "alpha_i = params['Ice Albedo']\n",
    "alpha_s = params['Atmospheric Albedo']\n",
    "tau = params['Earth Total Emissivity']\n",
    "sigma = params['Stefan-Boltzmann Constant']\n",
    "S0 = params['Solar Constant']\n",
    "\n",
    "# Albedo for the zone is the fractional percent weighted average of\n",
    "# land, ocean and ice albedos\n",
    "alpha = frac_l * alpha_l + frac_o * alpha_o + frac_i * alpha_i\n",
    "\n",
    "T = ((gamma*(1 - alpha_s)*(1 - alpha)*S0)/(tau*sigma))**(0.25)\n",
    "for i in range(n):\n",
    "    print('Teq Zone {}: {:.2f} K'.format(i, T[i]))"
   ]
  }
 ]
}