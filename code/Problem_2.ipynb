{
 "metadata": {
  "language_info": {
   "codemirror_mode": {
    "name": "ipython",
    "version": 3
   },
   "file_extension": ".py",
   "mimetype": "text/x-python",
   "name": "python",
   "nbconvert_exporter": "python",
   "pygments_lexer": "ipython3",
   "version": "3.8.2-final"
  },
  "orig_nbformat": 2,
  "kernelspec": {
   "name": "Python 3.8.2 64-bit",
   "display_name": "Python 3.8.2 64-bit",
   "metadata": {
    "interpreter": {
     "hash": "0adcc2737ebf6a4a119f135174df96668767fca1ef1112612db5ecadf2b6d608"
    }
   }
  }
 },
 "nbformat": 4,
 "nbformat_minor": 2,
 "cells": [
  {
   "cell_type": "code",
   "execution_count": null,
   "metadata": {},
   "outputs": [],
   "source": [
    "import json\n",
    "import pandas as pd\n",
    "import numpy as np\n",
    "from scipy.optimize import root\n",
    "from climate import EarthModel"
   ]
  },
  {
   "cell_type": "code",
   "execution_count": null,
   "metadata": {},
   "outputs": [],
   "source": [
    "model = EarthModel('parameters.json')"
   ]
  },
  {
   "source": [
    "## Problem 2\n",
    "In the case of suppressed intra-zonal transfer, the steady state temperature in each zone can be directly computed\n",
    "\n",
    "$$\n",
    "T_k^4 = \\frac{\\gamma_k(1 - \\alpha^{\\text{sky}})(1 - \\bar{\\alpha_k})S_0}{\\tau \\sigma_B}\n",
    "$$"
   ],
   "cell_type": "markdown",
   "metadata": {}
  },
  {
   "cell_type": "code",
   "execution_count": null,
   "metadata": {},
   "outputs": [],
   "source": [
    "T = (model.inbound_flux() / model.outbound_flux())**(0.25)\n",
    "for i in range(model.size):\n",
    "    print('Teq Zone {}: {:.2f} K'.format(i, T[i]))"
   ]
  },
  {
   "source": [
    "When intra-zonal transfer is allowed, steady state temperature can be found by solving a system of nonlinear equations\n",
    "$$\n",
    "F_k = \\gamma_k(1 - \\alpha^{\\text{sky}})(1 - \\bar{\\alpha_k})S_0 - \\tau \\sigma_b T_k^4 +\n",
    "\\frac{1}{A_k \\bar{\\beta_k}} \\sum_i L_{ik}k_{ik}(T_i - T_k) = 0\n",
    "$$\n",
    "where $\\bar{\\beta_k} = \\overline{\\rho_k c_k [z_k]}$ and the sum is taken over the neighbouring zones"
   ],
   "cell_type": "markdown",
   "metadata": {}
  },
  {
   "cell_type": "code",
   "execution_count": null,
   "metadata": {},
   "outputs": [],
   "source": [
    "F = model.vector_field\n",
    "sol = root(F, T)\n",
    "for i in range(model.size):\n",
    "    print('Teq Zone {}: {:.2f} K'.format(i, sol.x[i]))"
   ]
  }
 ]
}