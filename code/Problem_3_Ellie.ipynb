{
 "metadata": {
  "language_info": {
   "codemirror_mode": {
    "name": "ipython",
    "version": 3
   },
   "file_extension": ".py",
   "mimetype": "text/x-python",
   "name": "python",
   "nbconvert_exporter": "python",
   "pygments_lexer": "ipython3",
   "version": "3.7.6-final"
  },
  "orig_nbformat": 2,
  "kernelspec": {
   "name": "Python 3.7.6 64-bit (conda)",
   "display_name": "Python 3.7.6 64-bit (conda)",
   "metadata": {
    "interpreter": {
     "hash": "2f1619478b292860c96fac5ef16bc812fce47c62f462ae75616a175adb641b2c"
    }
   }
  }
 },
 "nbformat": 4,
 "nbformat_minor": 2,
 "cells": [
  {
   "cell_type": "code",
   "execution_count": null,
   "metadata": {},
   "outputs": [],
   "source": [
    "import pandas as pd\n",
    "import numpy as np\n",
    "import matplotlib.pyplot as plt\n",
    "from scipy.stats import expon\n",
    "import math"
   ]
  },
  {
   "cell_type": "code",
   "execution_count": null,
   "metadata": {},
   "outputs": [],
   "source": [
    "# Fit curve to eruption 1\n",
    "df = pd.read_csv('./eruption_1.csv')\n",
    "year = df['date'].values\n",
    "value = df['value'].values\n",
    "\n",
    "# Translate time to 0 and convert to seconds\n",
    "t = (year - year[0]) * 365.25 * 24 * 60 * 60\n",
    "\n",
    "# Shift so steady state is 1\n",
    "value = value / value[-1]\n",
    "\n",
    "exp_fit = -value + 1\n",
    "_, lmbda = expon.fit(exp_fit, floc = 0)"
   ]
  },
  {
   "cell_type": "code",
   "execution_count": null,
   "metadata": {},
   "outputs": [],
   "source": [
    "df2 = pd.read_csv('./eruption_2.csv')\n",
    "year2 = df2['date'].values\n",
    "value2 = df2['value'].values\n",
    "\n",
    "#Translate time to 0 and convert to seconds\n",
    "t2 = (year2 - year2[0]) * 365.25 * 24 * 60 * 60\n",
    "\n",
    "#Shift so steady state is 1\n",
    "value2 = value2 / value2[-1]\n",
    "\n",
    "exp_fit2 = value2\n",
    "_, lmbda2 = expon.fit(exp_fit2)"
   ]
  },
  {
   "cell_type": "code",
   "execution_count": null,
   "metadata": {},
   "outputs": [],
   "source": [
    "def func(x, a, b,c):\n",
    "    return (a*np.log2(b+x))/(b+x)+1\n",
    "\n",
    "popt, pcov = curve_fit(func, t, value)\n",
    "\n",
    "plt.figure()\n",
    "plt.scatter(t, value, label=\"Original Data\")\n",
    "plt.plot(t, func(t, *popt), 'r-', label=\"Fitted Curve\")\n",
    "plt.legend()\n",
    "plt.show()\n"
   ]
  },
  {
   "cell_type": "code",
   "execution_count": null,
   "metadata": {},
   "outputs": [],
   "source": [
    "popt2, pcov2 = curve_fit(func, t2, value2)\n",
    "\n",
    "plt.figure()\n",
    "plt.scatter(t2, value2, label=\"Original Data\")\n",
    "plt.plot(t2, func(t2, *popt2), 'r-', label=\"Fitted Curve\")\n",
    "plt.legend()\n",
    "plt.show()\n"
   ]
  },
  {
   "cell_type": "code",
   "execution_count": null,
   "metadata": {},
   "outputs": [],
   "source": []
  }
 ]
}