{
 "metadata": {
  "language_info": {
   "codemirror_mode": {
    "name": "ipython",
    "version": 3
   },
   "file_extension": ".py",
   "mimetype": "text/x-python",
   "name": "python",
   "nbconvert_exporter": "python",
   "pygments_lexer": "ipython3",
   "version": "3.8.2-final"
  },
  "orig_nbformat": 2,
  "kernelspec": {
   "name": "python3",
   "display_name": "Python 3"
  }
 },
 "nbformat": 4,
 "nbformat_minor": 2,
 "cells": [
  {
   "cell_type": "code",
   "execution_count": null,
   "metadata": {},
   "outputs": [],
   "source": [
    "import pandas as pd\n",
    "import numpy as np\n",
    "import matplotlib.pyplot as plt\n",
    "from scipy.optimize import least_squares\n",
    "from climate import EarthModel, fit_eruption_data\n",
    "from numpy.random import exponential"
   ]
  },
  {
   "cell_type": "code",
   "execution_count": null,
   "metadata": {},
   "outputs": [],
   "source": [
    "def seconds(years):\n",
    "    return years * 365.25 * 24 * 3600"
   ]
  },
  {
   "cell_type": "code",
   "execution_count": null,
   "metadata": {},
   "outputs": [],
   "source": [
    "# Simulate eruptions\n",
    "np.random.seed(42)\n",
    "test_repose_times = np.array(\n",
    "    [100, 50, 20, 20, 50, 100]\n",
    ") * 365.25 * 24 * 3600\n",
    "zone_eruption_times = np.array([\n",
    "    exponential(test_repose_times[i], 200).cumsum() for i in range(6)\n",
    "])\n",
    "eruption_zones = []\n",
    "eruption_times = []\n",
    "for i in range(6):\n",
    "    for t in zone_eruption_times[i]:\n",
    "        eruption_zones.append(i)\n",
    "        eruption_times.append(t)"
   ]
  },
  {
   "cell_type": "code",
   "execution_count": null,
   "metadata": {},
   "outputs": [],
   "source": [
    "model = EarthModel('parameters.json')\n",
    "model.set_occlusion(\n",
    "    fit_eruption_data(['eruption_1.csv', 'eruption_2.csv'])\n",
    ")\n",
    "model.build_eruptions(eruption_zones, eruption_times)\n",
    "model.t0 = 0\n",
    "model.T0 = [274.12, 279.34, 282.26, 280.88, 279.71, 274.93]\n",
    "model.tf = 100 * 3.154e+7 # Years\n",
    "model.tn = 500\n",
    "model.method = 'vode'\n",
    "model.build()\n",
    "model.solve()"
   ]
  },
  {
   "cell_type": "code",
   "execution_count": null,
   "metadata": {},
   "outputs": [],
   "source": [
    "fig, ax = plt.subplots(figsize=(8, 6))\n",
    "for i in range(model.size):\n",
    "    ax.plot(\n",
    "        model.t, model.T[:, i],\n",
    "        linewidth=2, label='Zone {}'.format(i), zorder=1)\n",
    "\n",
    "ax.legend()\n",
    "ax.set_xlim((0, seconds(100)))\n",
    "# Plot zone 0 eruption times as vertical lines\n",
    "for i in range(6):\n",
    "    for t in zone_eruption_times[i]:\n",
    "        ax.axvline(\n",
    "            t, color='C{}'.format(i),\n",
    "            zorder=0, linewidth=0.7, linestyle='dashed'\n",
    "        )"
   ]
  },
  {
   "cell_type": "code",
   "execution_count": null,
   "metadata": {},
   "outputs": [],
   "source": [
    "# Try albedo effects\n",
    "model = EarthModel('parameters.json')\n",
    "model.set_occlusion(\n",
    "    fit_eruption_data(['eruption_1.csv', 'eruption_2.csv'])\n",
    ")\n",
    "# model.build_eruptions(eruption_zones, eruption_times)\n",
    "model.build_eruptions([], [])\n",
    "model.t0 = 0\n",
    "model.T0 = [274.12, 279.34, 282.26, 280.88, 279.71, 274.93]\n",
    "model.tf = 100 * 3.154e+7 # Years\n",
    "model.tn = 500\n",
    "model.method = 'vode'\n",
    "model.build_ode(\n",
    "    lambda t, T: model.flux_balance_albedo(t, T)\n",
    ")\n",
    "model.solve()"
   ]
  },
  {
   "cell_type": "code",
   "execution_count": null,
   "metadata": {},
   "outputs": [],
   "source": [
    "fig, ax = plt.subplots(figsize=(8, 6))\n",
    "for i in range(model.size):\n",
    "    ax.plot(\n",
    "        model.t, model.T[:, i],\n",
    "        linewidth=2, label='Zone {}'.format(i), zorder=1)\n",
    "\n",
    "ax.legend()\n",
    "ax.set_xlim((0, seconds(100)))\n",
    "# Plot zone 0 eruption times as vertical lines\n",
    "for i in range(6):\n",
    "    for t in zone_eruption_times[i]:\n",
    "        ax.axvline(\n",
    "            t, color='C{}'.format(i),\n",
    "            zorder=0, linewidth=0.7, linestyle='dashed'\n",
    "        )"
   ]
  }
 ]
}