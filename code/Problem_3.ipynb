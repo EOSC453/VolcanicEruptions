{
 "metadata": {
  "language_info": {
   "codemirror_mode": {
    "name": "ipython",
    "version": 3
   },
   "file_extension": ".py",
   "mimetype": "text/x-python",
   "name": "python",
   "nbconvert_exporter": "python",
   "pygments_lexer": "ipython3",
   "version": "3.8.2-final"
  },
  "orig_nbformat": 2,
  "kernelspec": {
   "name": "Python 3.8.2 64-bit",
   "display_name": "Python 3.8.2 64-bit",
   "metadata": {
    "interpreter": {
     "hash": "0adcc2737ebf6a4a119f135174df96668767fca1ef1112612db5ecadf2b6d608"
    }
   }
  }
 },
 "nbformat": 4,
 "nbformat_minor": 2,
 "cells": [
  {
   "cell_type": "code",
   "execution_count": null,
   "metadata": {},
   "outputs": [],
   "source": [
    "import pandas as pd\n",
    "import numpy as np\n",
    "import matplotlib.pyplot as plt\n",
    "from scipy.optimize import least_squares"
   ]
  },
  {
   "cell_type": "code",
   "execution_count": null,
   "metadata": {},
   "outputs": [],
   "source": [
    "# Fit curve to eruption data\n",
    "def fit_eruption(year, value, weights=None):\n",
    "    if weights is None:\n",
    "        weights = np.ones_like(value)\n",
    "\n",
    "    # Translate eruption time to a small number greater than 0\n",
    "    eps = 0.01\n",
    "    t = year - year[0] + eps\n",
    "\n",
    "    # Transform values to look like ~ 1/t\n",
    "    data = value / value[-1]\n",
    "    data = 1 / data\n",
    "    data = data - 1\n",
    "\n",
    "    # Find a least squares fit to the eruption curve using a 1/t function\n",
    "    sol = least_squares(lambda x: weights * (x[0]/(t - x[1]) - data), [1, 0])\n",
    "\n",
    "    # Transform to an \"occluding\" function that reduces incoming radiation\n",
    "    # for time in seconds since the eruption\n",
    "    def phi(t):\n",
    "        # Function was fit in years.\n",
    "        t = t / 365.25 / 24 / 3600\n",
    "        return 1 / (sol.x[0]/(t - sol.x[1]) + 1)\n",
    "\n",
    "    return phi"
   ]
  },
  {
   "cell_type": "code",
   "execution_count": null,
   "metadata": {},
   "outputs": [],
   "source": [
    "# Eruption 1 fit\n",
    "df = pd.read_csv('./eruption_1.csv')\n",
    "year = df['date'].values\n",
    "value = df['value'].values\n",
    "phi_1 = fit_eruption(year, value)\n",
    "# Shift time to 0 and convert to seconds\n",
    "t = (year - year[0]) * 365.25 * 24 * 3600\n",
    "fig, ax = plt.subplots()\n",
    "ax.plot(t, value / value[-1])\n",
    "ax.plot(t, phi_1(t))"
   ]
  },
  {
   "cell_type": "code",
   "execution_count": null,
   "metadata": {},
   "outputs": [],
   "source": [
    "# Eruption 2 fit\n",
    "df = pd.read_csv('./eruption_2.csv')\n",
    "year = df['date'].values\n",
    "value = df['value'].values\n",
    "phi_2 = fit_eruption(year, value)\n",
    "\n",
    "# Shift time to 0 and convert to seconds\n",
    "t = (year - year[0]) * 365.25 * 24 * 3600\n",
    "fig, ax = plt.subplots()\n",
    "ax.plot(t, value / value[-1])\n",
    "ax.plot(t, phi_2(t))"
   ]
  },
  {
   "cell_type": "code",
   "execution_count": null,
   "metadata": {},
   "outputs": [],
   "source": [
    "# Take phi as the average of the two fits\n",
    "phi = lambda t: 0.5 * (phi_1(t)  + phi_2(t))"
   ]
  },
  {
   "cell_type": "code",
   "execution_count": null,
   "metadata": {},
   "outputs": [],
   "source": [
    "# Plot final function\n",
    "fig, ax = plt.subplots()\n",
    "years = 5\n",
    "t = np.linspace(0, years * 365.25 * 24 * 3600)\n",
    "ax.plot(t, phi(t))\n",
    "ax.set_xlabel('Time since eruption (s)')\n",
    "ax.set_ylabel('$\\phi(t)$')"
   ]
  }
 ]
}