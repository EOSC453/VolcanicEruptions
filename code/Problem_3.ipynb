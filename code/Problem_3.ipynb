{
 "metadata": {
  "language_info": {
   "codemirror_mode": {
    "name": "ipython",
    "version": 3
   },
   "file_extension": ".py",
   "mimetype": "text/x-python",
   "name": "python",
   "nbconvert_exporter": "python",
   "pygments_lexer": "ipython3",
   "version": "3.8.2-final"
  },
  "orig_nbformat": 2,
  "kernelspec": {
   "name": "python3",
   "display_name": "Python 3"
  }
 },
 "nbformat": 4,
 "nbformat_minor": 2,
 "cells": [
  {
   "cell_type": "code",
   "execution_count": null,
   "metadata": {},
   "outputs": [],
   "source": [
    "import pandas as pd\n",
    "import numpy as np\n",
    "import matplotlib.pyplot as plt\n",
    "from scipy.stats import expon"
   ]
  },
  {
   "cell_type": "code",
   "execution_count": null,
   "metadata": {},
   "outputs": [],
   "source": [
    "# Fit curve to eruption 1\n",
    "df = pd.read_csv('./eruption_1.csv')\n",
    "year = df['date'].values\n",
    "value = df['value'].values\n",
    "\n",
    "# Translate time to 0 and convert to seconds\n",
    "t = (year - year[0]) * 365.25 * 24 * 60 * 60\n",
    "\n",
    "# Shift so steady state is 1\n",
    "value = value / value[-1]\n",
    "\n",
    "exp_fit = -value + 1\n",
    "_, scale = expon.fit(exp_fit, floc=0)\n",
    "lmbda = 1 / scale"
   ]
  },
  {
   "cell_type": "code",
   "execution_count": null,
   "metadata": {},
   "outputs": [],
   "source": [
    "fig, ax = plt.subplots()\n",
    "ax.plot(t, exp_fit)\n",
    "ax.plot(t, lmbda * np.exp(-lmbda * t))\n",
    "ax.set_ylim((0, 1))"
   ]
  }
 ]
}