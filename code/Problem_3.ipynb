{
 "metadata": {
  "language_info": {
   "codemirror_mode": {
    "name": "ipython",
    "version": 3
   },
   "file_extension": ".py",
   "mimetype": "text/x-python",
   "name": "python",
   "nbconvert_exporter": "python",
   "pygments_lexer": "ipython3",
   "version": "3.8.2-final"
  },
  "orig_nbformat": 2,
  "kernelspec": {
   "name": "python3",
   "display_name": "Python 3.8.2 64-bit",
   "metadata": {
    "interpreter": {
     "hash": "0adcc2737ebf6a4a119f135174df96668767fca1ef1112612db5ecadf2b6d608"
    }
   }
  }
 },
 "nbformat": 4,
 "nbformat_minor": 2,
 "cells": [
  {
   "cell_type": "code",
   "execution_count": null,
   "metadata": {},
   "outputs": [],
   "source": [
    "import pandas as pd\n",
    "import numpy as np\n",
    "import matplotlib.pyplot as plt\n",
    "from scipy.optimize import least_squares\n",
    "from climate import EarthModel\n",
    "from numpy.random import exponential"
   ]
  },
  {
   "cell_type": "code",
   "execution_count": null,
   "metadata": {},
   "outputs": [],
   "source": [
    "def seconds(years):\n",
    "    return years * 365.25 * 24 * 3600"
   ]
  },
  {
   "source": [
    "### Occlusion response to one eruption"
   ],
   "cell_type": "markdown",
   "metadata": {}
  },
  {
   "cell_type": "code",
   "execution_count": null,
   "metadata": {},
   "outputs": [],
   "source": [
    "# Fit curve to eruption data\n",
    "def fit_eruption(year, value, weights=None):\n",
    "    if weights is None:\n",
    "        weights = np.ones_like(value)\n",
    "\n",
    "    # Translate eruption time to a small number greater than 0\n",
    "    eps = 0.01\n",
    "    t = year - year[0] + eps\n",
    "\n",
    "    # Transform values to look like ~ 1/t\n",
    "    data = value / value[-1]\n",
    "    data = 1 / data\n",
    "    data = data - 1\n",
    "\n",
    "    # Find a least squares fit to the eruption curve using a 1/t function\n",
    "    sol = least_squares(lambda x: weights * (x[0]/(t - x[1])**2 - data), [1, 0])\n",
    "\n",
    "    # Transform to an \"occluding\" function that reduces incoming radiation\n",
    "    # for time in seconds since the eruption\n",
    "    def phi(t):\n",
    "        # Function was fit in years.\n",
    "        t = t / 365.25 / 24 / 3600\n",
    "        return 1 / (sol.x[0]/(t - sol.x[1])**2 + 1)\n",
    "\n",
    "    return phi"
   ]
  },
  {
   "cell_type": "code",
   "execution_count": null,
   "metadata": {},
   "outputs": [],
   "source": [
    "# Eruption 1 fit\n",
    "df = pd.read_csv('./eruption_1.csv')\n",
    "year = df['date'].values\n",
    "value = df['value'].values\n",
    "phi_1 = fit_eruption(year, value)\n",
    "# Shift time to 0 and convert to seconds\n",
    "t = (year - year[0]) * 365.25 * 24 * 3600\n",
    "fig, ax = plt.subplots()\n",
    "ax.plot(t, value / value[-1])\n",
    "ax.plot(t, phi_1(t))"
   ]
  },
  {
   "cell_type": "code",
   "execution_count": null,
   "metadata": {},
   "outputs": [],
   "source": [
    "# Eruption 2 fit\n",
    "df = pd.read_csv('./eruption_2.csv')\n",
    "year = df['date'].values\n",
    "value = df['value'].values\n",
    "phi_2 = fit_eruption(year, value)\n",
    "\n",
    "# Shift time to 0 and convert to seconds\n",
    "t = (year - year[0]) * 365.25 * 24 * 3600\n",
    "fig, ax = plt.subplots()\n",
    "ax.plot(t, value / value[-1])\n",
    "ax.plot(t, phi_2(t))"
   ]
  },
  {
   "cell_type": "code",
   "execution_count": null,
   "metadata": {},
   "outputs": [],
   "source": [
    "# Take phi as the average of the two fits\n",
    "phi = lambda t: 0.5 * (phi_1(t)  + phi_2(t))"
   ]
  },
  {
   "cell_type": "code",
   "execution_count": null,
   "metadata": {},
   "outputs": [],
   "source": [
    "# Plot final function\n",
    "fig, ax = plt.subplots()\n",
    "years = 5\n",
    "t = np.linspace(0, years * 365.25 * 24 * 3600)\n",
    "ax.plot(t, phi(t))\n",
    "ax.set_xlabel('Time since eruption (s)')\n",
    "ax.set_ylabel('$\\phi(t)$')"
   ]
  },
  {
   "source": [
    "### Spatial component of eruption"
   ],
   "cell_type": "markdown",
   "metadata": {}
  },
  {
   "cell_type": "code",
   "execution_count": null,
   "metadata": {},
   "outputs": [],
   "source": [
    "model = EarthModel('parameters.json')\n",
    "model.set_occlusion(phi)\n",
    "model.max_eruption_time = 100 * 365.25 * 24 * 3600\n",
    "eruption_time = 1 * 365.25 * 24 * 3600\n",
    "model.build_eruptions([0, 1, 2, 3, 4, 5], [0, 0, 0, 0, 0, 0])\n",
    "years = 10\n",
    "ts = np.linspace(0, years * 365.25 * 24 * 3600, 500)\n",
    "fig, ax = plt.subplots()\n",
    "ax.plot(ts, [model.phi(t)[5] for t in ts])\n",
    "ax.plot(ts, [model.phi(t)[1] for t in ts])\n",
    "ax.plot(ts, [model.phi(t)[2] for t in ts])\n",
    "ax.plot(ts, [model.phi(t)[3] for t in ts])\n",
    "ax.plot(ts, [model.phi(t)[4] for t in ts])\n",
    "ax.plot(ts, [model.phi(t)[5] for t in ts])"
   ]
  },
  {
   "source": [
    "### Time component of multiple eruptions"
   ],
   "cell_type": "markdown",
   "metadata": {}
  },
  {
   "cell_type": "code",
   "execution_count": null,
   "metadata": {},
   "outputs": [],
   "source": [
    "df = pd.read_csv('E3WebApp_Eruptions1960.csv')\n",
    "df = df[df.StartDateYear > 1959]\n",
    "dates = df['StartDate'].values\n",
    "\n",
    "#Drop duplicates\n",
    "df2 = df.drop_duplicates(subset=['VolcanoNumber'])\n",
    "lat = df2['LatitudeDecimal'].values\n",
    "\n",
    "#Count latitude occurrences\n",
    "value_counts = df['LatitudeDecimal'].value_counts(dropna=True, sort=True)\n",
    "df_value_counts = pd.DataFrame(value_counts)\n",
    "df_value_counts = df_value_counts.reset_index()\n",
    "df_value_counts.columns = ['Latitude', 'Counts']\n",
    "\n",
    "#Find number of volcanoes per zone\n",
    "def Zones_func(df_value_counts):\n",
    "    zone1 = []\n",
    "    zone2 = []\n",
    "    zone3 = []\n",
    "    zone4 = []\n",
    "    zone5 = []\n",
    "    zone6 = []\n",
    "    zone1_erc = []\n",
    "    zone2_erc = []\n",
    "    zone3_erc = []\n",
    "    zone4_erc = []\n",
    "    zone5_erc = []\n",
    "    zone6_erc = []\n",
    "    for i in range(len(df_value_counts)):\n",
    "        if df_value_counts.iloc[i][0] > 60:\n",
    "            zone6.append(df_value_counts.iloc[i][0])\n",
    "            zone6_erc.append(df_value_counts.iloc[i][1])\n",
    "        if df_value_counts.iloc[i][0] > 30 and df_value_counts.iloc[i][0] < 60:\n",
    "            zone5.append(df_value_counts.iloc[i][0])\n",
    "            zone5_erc.append(df_value_counts.iloc[i][1])\n",
    "        if df_value_counts.iloc[i][0] > 0 and df_value_counts.iloc[i][0] <30:\n",
    "            zone4.append(df_value_counts.iloc[i][0])\n",
    "            zone4_erc.append(df_value_counts.iloc[i][1])\n",
    "        if df_value_counts.iloc[i][0] <0 and df_value_counts.iloc[i][0] >-30:\n",
    "            zone3.append(df_value_counts.iloc[i][0])\n",
    "            zone3_erc.append(df_value_counts.iloc[i][1])\n",
    "        if df_value_counts.iloc[i][0] <-30 and df_value_counts.iloc[i][0]>-60:\n",
    "            zone2.append(df_value_counts.iloc[i][0])\n",
    "            zone2_erc.append(df_value_counts.iloc[i][1])\n",
    "        if df_value_counts.iloc[i][0] <-60 and df_value_counts.iloc[i][0]>-90:\n",
    "            zone1.append(df_value_counts.iloc[i][0])\n",
    "            zone1_erc.append(df_value_counts.iloc[i][1])\n",
    "    volc_num = [len(zone1),len(zone2),len(zone3),len(zone4),len(zone5),len(zone6)]\n",
    "    return (volc_num,zone1,zone2,zone3,zone4,zone5,zone6,zone1_erc,zone2_erc,zone3_erc,zone4_erc,zone5_erc,zone6_erc)\n",
    "\n",
    "Zones = Zones_func(df_value_counts)\n",
    "#Number of volcanoes per zone\n",
    "volc = Zones[0]\n",
    "#Volcano latitudes\n",
    "Zone1 = Zones[1]\n",
    "Zone2 = Zones[2]\n",
    "Zone3 = Zones[3]\n",
    "Zone4 = Zones[4]\n",
    "Zone5 = Zones[5]\n",
    "Zone6 = Zones[6]\n",
    "Zone1e = np.sum(Zones[7])\n",
    "Zone2e = np.sum(Zones[8])\n",
    "Zone3e = np.sum(Zones[9])\n",
    "Zone4e = np.sum(Zones[10])\n",
    "Zone5e = np.sum(Zones[11])\n",
    "Zone6e = np.sum(Zones[12])"
   ]
  },
  {
   "cell_type": "code",
   "execution_count": null,
   "metadata": {},
   "outputs": [],
   "source": [
    "# Find average repose time per zone (mind we're neglecting the eruption length)\n",
    "t_tot = (45 + 7/12 + 8/365.25)*365.25*24*3600\n",
    "t_tot_yr = (45 + 7/12 + 8/365.25)\n",
    "\n",
    "# Zonal average repose time (in yrs)\n",
    "Zone_av_yr = []\n",
    "for i in range(7,13):\n",
    "    Zone_av_yr.append(np.sum(Zones[i])/t_tot_yr)\n",
    "\n",
    "# Zonal average repose time (in s)\n",
    "Zone_av_s = []\n",
    "for i in range(7,13):\n",
    "    Zone_av_s.append(np.sum(Zones[i])/t_tot)"
   ]
  },
  {
   "cell_type": "code",
   "execution_count": null,
   "metadata": {},
   "outputs": [],
   "source": [
    "repose_times = np.array(Zone_av_yr) * 365.25 * 24 * 3600\n",
    "tf = seconds(20)\n",
    "n_eruptions = tf / repose_times\n",
    "n_eruptions = n_eruptions.astype(int)\n",
    "\n",
    "# Add eruptions for each zone spaced equally by the repose time\n",
    "eruption_zones = []\n",
    "eruption_times = []\n",
    "for i in range(6):\n",
    "    repose_time = repose_times[i]\n",
    "    n = n_eruptions[i]\n",
    "    for j in range(n):\n",
    "        eruption_zones.append(i)\n",
    "        eruption_times.append(repose_time * j)\n",
    "n_eruptions"
   ]
  },
  {
   "cell_type": "code",
   "execution_count": null,
   "metadata": {},
   "outputs": [],
   "source": [
    "model = EarthModel('parameters.json')\n",
    "model.t0 = 0\n",
    "model.tf = 100 * 3.154e+7 # Years\n",
    "model.tn = 500\n",
    "model.max_eruption_time = 100 * 365.25 * 24 * 3600\n",
    "model.method = 'vode'\n",
    "model.T0 = [274.12, 279.34, 282.26, 280.88, 279.71, 274.93]\n",
    "model.set_occlusion(phi)\n",
    "model.build_eruptions(eruption_zones, eruption_times)\n",
    "model.build()\n",
    "model.solve()\n",
    "\n",
    "# Plot solution\n",
    "fig, ax = plt.subplots(figsize=(8, 6))\n",
    "for i in range(model.size):\n",
    "    ax.plot(model.t, model.T[:, i], label='Zone {}'.format(i))\n",
    "ax.legend()"
   ]
  },
  {
   "cell_type": "code",
   "execution_count": null,
   "metadata": {},
   "outputs": [],
   "source": [
    "# Add eruptions for each zone through a poisson process based on\n",
    "# the average repose time\n",
    "test_repose_times = np.array([100, 50, 20, 20, 50, 100]) * 365.25 * 24 * 3600\n",
    "np.random.seed(42)\n",
    "zone_eruption_times = np.array([\n",
    "    exponential(test_repose_times[i], 200).cumsum() for i in range(6)\n",
    "])\n",
    "eruption_zones = []\n",
    "eruption_times = []\n",
    "for i in range(6):\n",
    "    for t in zone_eruption_times[i]:\n",
    "        eruption_zones.append(i)\n",
    "        eruption_times.append(t)"
   ]
  },
  {
   "cell_type": "code",
   "execution_count": null,
   "metadata": {},
   "outputs": [],
   "source": [
    "model.build_eruptions(eruption_zones, eruption_times)\n",
    "years = 100\n",
    "ts = np.linspace(0, years * 365.25 * 24 * 3600, 500)\n",
    "phis = [model.phi(t) for t in ts]"
   ]
  },
  {
   "cell_type": "code",
   "execution_count": null,
   "metadata": {},
   "outputs": [],
   "source": [
    "fig, ax = plt.subplots()\n",
    "ax.plot(ts, [phi[0] for phi in phis])\n",
    "ax.plot(ts, [phi[1] for phi in phis])\n",
    "ax.plot(ts, [phi[2] for phi in phis])\n",
    "ax.plot(ts, [phi[3] for phi in phis])\n",
    "ax.plot(ts, [phi[4] for phi in phis])\n",
    "ax.plot(ts, [phi[5] for phi in phis])"
   ]
  },
  {
   "cell_type": "code",
   "execution_count": null,
   "metadata": {},
   "outputs": [],
   "source": [
    "model = EarthModel('parameters.json')\n",
    "model.t0 = 0\n",
    "model.tf = 100 * 3.154e+7 # Years\n",
    "model.tn = 500\n",
    "model.max_eruption_time = 100 * 365.25 * 24 * 3600\n",
    "model.method = 'vode'\n",
    "model.T0 = [274.12, 279.34, 282.26, 280.88, 279.71, 274.93]\n",
    "model.set_occlusion(phi)\n",
    "model.build_eruptions(eruption_zones, eruption_times)\n",
    "model.build()\n",
    "model.solve()"
   ]
  },
  {
   "cell_type": "code",
   "execution_count": null,
   "metadata": {},
   "outputs": [],
   "source": [
    "# Plot solution\n",
    "nrows = 2\n",
    "fig = plt.figure(figsize=(8, 6 * 2))\n",
    "gs = fig.add_gridspec(nrows=nrows, ncols=1)\n",
    "ax = fig.add_subplot(gs[0, 0])\n",
    "for i in range(model.size):\n",
    "    ax.plot(model.t, model.T[:, i], linewidth=2, label='Zone {}'.format(i), zorder=1)\n",
    "\n",
    "ax.legend()\n",
    "ax.set_xlim((0, seconds(100)))\n",
    "# Plot zone 0 eruption times as vertical lines\n",
    "for i in range(6):\n",
    "    for t in zone_eruption_times[i]:\n",
    "        ax.axvline(\n",
    "            t, color='C{}'.format(i),\n",
    "            zorder=0, linewidth=0.7, linestyle='dashed'\n",
    "        )"
   ]
  }
 ]
}