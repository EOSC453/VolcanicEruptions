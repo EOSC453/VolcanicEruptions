{
 "metadata": {
  "language_info": {
   "codemirror_mode": {
    "name": "ipython",
    "version": 3
   },
   "file_extension": ".py",
   "mimetype": "text/x-python",
   "name": "python",
   "nbconvert_exporter": "python",
   "pygments_lexer": "ipython3",
   "version": "3.7.6-final"
  },
  "orig_nbformat": 2,
  "kernelspec": {
   "name": "Python 3.7.6 64-bit (conda)",
   "display_name": "Python 3.7.6 64-bit (conda)",
   "metadata": {
    "interpreter": {
     "hash": "2f1619478b292860c96fac5ef16bc812fce47c62f462ae75616a175adb641b2c"
    }
   }
  }
 },
 "nbformat": 4,
 "nbformat_minor": 2,
 "cells": [
  {
   "cell_type": "code",
   "execution_count": null,
   "metadata": {},
   "outputs": [],
   "source": [
    "import pandas as pd\n",
    "import numpy as np\n",
    "import matplotlib.pyplot as plt\n",
    "from scipy.optimize import least_squares"
   ]
  },
  {
   "cell_type": "code",
   "execution_count": null,
   "metadata": {},
   "outputs": [],
   "source": [
    "# Fit curve to eruption data\n",
    "def fit_eruption(year, value, weights=None):\n",
    "    if weights is None:\n",
    "        weights = np.ones_like(value)\n",
    "\n",
    "    # Translate eruption time to a small number greater than 0\n",
    "    eps = 0.01\n",
    "    t = year - year[0] + eps\n",
    "\n",
    "    # Transform values to look like ~ 1/t\n",
    "    data = value / value[-1]\n",
    "    data = 1 / data\n",
    "    data = data - 1\n",
    "\n",
    "    # Find a least squares fit to the eruption curve using a 1/t function\n",
    "    sol = least_squares(lambda x: weights * (x[0]/(t - x[1]) - data), [1, 0])\n",
    "\n",
    "    # Transform to an \"occluding\" function that reduces incoming radiation\n",
    "    # for time in seconds since the eruption\n",
    "    def phi(t):\n",
    "        # Function was fit in years.\n",
    "        t = t / 365.25 / 24 / 3600\n",
    "        return 1 / (sol.x[0]/(t - sol.x[1]) + 1)\n",
    "\n",
    "    return phi"
   ]
  },
  {
   "cell_type": "code",
   "execution_count": null,
   "metadata": {},
   "outputs": [],
   "source": [
    "# Eruption 1 fit\n",
    "df = pd.read_csv('./eruption_1.csv')\n",
    "year = df['date'].values\n",
    "value = df['value'].values\n",
    "phi_1 = fit_eruption(year, value)\n",
    "# Shift time to 0 and convert to seconds\n",
    "t = (year - year[0]) * 365.25 * 24 * 3600\n",
    "fig, ax = plt.subplots()\n",
    "ax.plot(t, value / value[-1])\n",
    "ax.plot(t, phi_1(t))"
   ]
  },
  {
   "cell_type": "code",
   "execution_count": null,
   "metadata": {},
   "outputs": [],
   "source": [
    "# Eruption 2 fit\n",
    "df = pd.read_csv('./eruption_2.csv')\n",
    "year = df['date'].values\n",
    "value = df['value'].values\n",
    "phi_2 = fit_eruption(year, value)\n",
    "\n",
    "# Shift time to 0 and convert to seconds\n",
    "t = (year - year[0]) * 365.25 * 24 * 3600\n",
    "fig, ax = plt.subplots()\n",
    "ax.plot(t, value / value[-1])\n",
    "ax.plot(t, phi_2(t))"
   ]
  },
  {
   "cell_type": "code",
   "execution_count": null,
   "metadata": {},
   "outputs": [],
   "source": [
    "# Take phi as the average of the two fits\n",
    "phi = lambda t: 0.5 * (phi_1(t)  + phi_2(t))"
   ]
  },
  {
   "cell_type": "code",
   "execution_count": null,
   "metadata": {},
   "outputs": [],
   "source": [
    "# Plot final function\n",
    "fig, ax = plt.subplots()\n",
    "years = 5\n",
    "t = np.linspace(0, years * 365.25 * 24 * 3600)\n",
    "ax.plot(t, phi(t))\n",
    "ax.plot(t[6:],phi(t)[6:])\n",
    "ax.set_xlabel('Time since eruption (s)')\n",
    "ax.set_ylabel('$\\phi(t)$')"
   ]
  },
  {
   "cell_type": "code",
   "execution_count": null,
   "metadata": {},
   "outputs": [],
   "source": [
    "x = [0,40,120]\n",
    "t = [0,4,9]\n",
    "\n",
    "plt.plot(t,x)"
   ]
  },
  {
   "cell_type": "code",
   "execution_count": null,
   "metadata": {},
   "outputs": [],
   "source": [
    "df = pd.read_csv('E3WebApp_Eruptions1960.csv')\n",
    "df = df[df.StartDateYear > 1959]\n",
    "dates = df['StartDate'].values\n",
    "\n",
    "#Drop duplicates\n",
    "df2 = df.drop_duplicates(subset=['VolcanoNumber'])\n",
    "lat = df2['LatitudeDecimal'].values\n",
    "\n",
    "#Count latitude occurrences\n",
    "value_counts = df['LatitudeDecimal'].value_counts(dropna=True, sort=True)\n",
    "df_value_counts = pd.DataFrame(value_counts)\n",
    "df_value_counts = df_value_counts.reset_index()\n",
    "df_value_counts.columns = ['Latitude', 'Counts']\n",
    "\n",
    "#Find number of volcanoes per zone\n",
    "def Zones(df_value_counts):\n",
    "    zone1 = []\n",
    "    zone2 = []\n",
    "    zone3 = []\n",
    "    zone4 = []\n",
    "    zone5 = []\n",
    "    zone6 = []\n",
    "    zone1_erc = []\n",
    "    zone2_erc = []\n",
    "    zone3_erc = []\n",
    "    zone4_erc = []\n",
    "    zone5_erc = []\n",
    "    zone6_erc = []\n",
    "    for i in range(len(df_value_counts)):\n",
    "        if df_value_counts.iloc[i][0] > 60:\n",
    "            zone6.append(df_value_counts.iloc[i][0])\n",
    "            zone6_erc.append(df_value_counts.iloc[i][1])\n",
    "        if df_value_counts.iloc[i][0] > 30 and df_value_counts.iloc[i][0] < 60:\n",
    "            zone5.append(df_value_counts.iloc[i][0])\n",
    "            zone5_erc.append(df_value_counts.iloc[i][1])\n",
    "        if df_value_counts.iloc[i][0] > 0 and df_value_counts.iloc[i][0] <30:\n",
    "            zone4.append(df_value_counts.iloc[i][0])\n",
    "            zone4_erc.append(df_value_counts.iloc[i][1])\n",
    "        if df_value_counts.iloc[i][0] <0 and df_value_counts.iloc[i][0] >-30:\n",
    "            zone3.append(df_value_counts.iloc[i][0])\n",
    "            zone3_erc.append(df_value_counts.iloc[i][1])\n",
    "        if df_value_counts.iloc[i][0] <-30 and df_value_counts.iloc[i][0]>-60:\n",
    "            zone2.append(df_value_counts.iloc[i][0])\n",
    "            zone2_erc.append(df_value_counts.iloc[i][1])\n",
    "        if df_value_counts.iloc[i][0] <-60 and df_value_counts.iloc[i][0]>-90:\n",
    "            zone1.append(df_value_counts.iloc[i][0])\n",
    "            zone1_erc.append(df_value_counts.iloc[i][1])\n",
    "    volc_num = [len(zone1),len(zone2),len(zone3),len(zone4),len(zone5),len(zone6)]\n",
    "    return (volc_num,zone1,zone2,zone3,zone4,zone5,zone6,zone1_erc,zone2_erc,zone3_erc,zone4_erc,zone5_erc,zone6_erc)\n",
    "\n",
    "Zones = Zones(df_value_counts)\n",
    "#Number of volcanoes per zone\n",
    "volc = Zones[0]\n",
    "#Volcano latitudes\n",
    "Zone1 = Zones[1]\n",
    "Zone2 = Zones[2]\n",
    "Zone3 = Zones[3]\n",
    "Zone4 = Zones[4]\n",
    "Zone5 = Zones[5]\n",
    "Zone6 = Zones[6]\n",
    "Zone1e = np.sum(Zones[7])\n",
    "Zone2e = np.sum(Zones[8])\n",
    "Zone3e = np.sum(Zones[9])\n",
    "Zone4e = np.sum(Zones[10])\n",
    "Zone5e = np.sum(Zones[11])\n",
    "Zone6e = np.sum(Zones[12])"
   ]
  }
 ]
}